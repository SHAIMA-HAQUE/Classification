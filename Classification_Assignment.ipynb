{
  "nbformat": 4,
  "nbformat_minor": 0,
  "metadata": {
    "colab": {
      "name": "Classification - Assignment.ipynb",
      "provenance": [],
      "authorship_tag": "ABX9TyNVl+A3wOLIMqxJHhDVELrH",
      "include_colab_link": true
    },
    "kernelspec": {
      "name": "python3",
      "display_name": "Python 3"
    },
    "language_info": {
      "name": "python"
    }
  },
  "cells": [
    {
      "cell_type": "markdown",
      "metadata": {
        "id": "view-in-github",
        "colab_type": "text"
      },
      "source": [
        "<a href=\"https://colab.research.google.com/github/SHAIMA-HAQUE/Classification/blob/main/Classification_Assignment.ipynb\" target=\"_parent\"><img src=\"https://colab.research.google.com/assets/colab-badge.svg\" alt=\"Open In Colab\"/></a>"
      ]
    },
    {
      "cell_type": "markdown",
      "metadata": {
        "id": "nHpPVF4itN9u"
      },
      "source": [
        "# ***Import Packages***"
      ]
    },
    {
      "cell_type": "code",
      "metadata": {
        "id": "-lIhq3xsjFRk"
      },
      "source": [
        "import numpy as np\n",
        "import pandas as pd"
      ],
      "execution_count": null,
      "outputs": []
    },
    {
      "cell_type": "markdown",
      "metadata": {
        "id": "dkgXHNartVe9"
      },
      "source": [
        "# ***Import Dataset***"
      ]
    },
    {
      "cell_type": "code",
      "metadata": {
        "colab": {
          "base_uri": "https://localhost:8080/"
        },
        "id": "eOj_LH0dqbu4",
        "outputId": "28355416-5ed1-4f86-8334-d6afe2bf5d12"
      },
      "source": [
        "dataset = pd.read_csv('drug200.csv')\n",
        "print(dataset)"
      ],
      "execution_count": null,
      "outputs": [
        {
          "output_type": "stream",
          "text": [
            "     Age Sex      BP Cholesterol  Na_to_K   Drug\n",
            "0     23   F    HIGH        HIGH   25.355  DrugY\n",
            "1     47   M     LOW        HIGH   13.093  drugC\n",
            "2     47   M     LOW        HIGH   10.114  drugC\n",
            "3     28   F  NORMAL        HIGH    7.798  drugX\n",
            "4     61   F     LOW        HIGH   18.043  DrugY\n",
            "..   ...  ..     ...         ...      ...    ...\n",
            "195   56   F     LOW        HIGH   11.567  drugC\n",
            "196   16   M     LOW        HIGH   12.006  drugC\n",
            "197   52   M  NORMAL        HIGH    9.894  drugX\n",
            "198   23   M  NORMAL      NORMAL   14.020  drugX\n",
            "199   40   F     LOW      NORMAL   11.349  drugX\n",
            "\n",
            "[200 rows x 6 columns]\n"
          ],
          "name": "stdout"
        }
      ]
    },
    {
      "cell_type": "markdown",
      "metadata": {
        "id": "AOvVQjPntpv6"
      },
      "source": [
        "# ***Check for unique values and Convert them to numeric***"
      ]
    },
    {
      "cell_type": "code",
      "metadata": {
        "colab": {
          "base_uri": "https://localhost:8080/"
        },
        "id": "fZE2h40w9StA",
        "outputId": "bd7aea11-cffa-47e9-c14c-23387407dc91"
      },
      "source": [
        "# Checking unique values in order to convert them to numeric\n",
        "print(f'''Drugs: {dataset['Drug'].unique()}, \n",
        "Sex: {dataset['Sex'].unique()}\n",
        "Blood Pressure: {dataset['BP'].unique()}\n",
        "Cholesterol: {dataset['Cholesterol'].unique()}''')"
      ],
      "execution_count": null,
      "outputs": [
        {
          "output_type": "stream",
          "text": [
            "Drugs: ['DrugY' 'drugC' 'drugX' 'drugA' 'drugB'], \n",
            "Sex: ['F' 'M']\n",
            "Blood Pressure: ['HIGH' 'LOW' 'NORMAL']\n",
            "Cholesterol: ['HIGH' 'NORMAL']\n"
          ],
          "name": "stdout"
        }
      ]
    },
    {
      "cell_type": "code",
      "metadata": {
        "colab": {
          "base_uri": "https://localhost:8080/",
          "height": 415
        },
        "id": "yXVkucIh9dYO",
        "outputId": "a65af87d-65d5-4a39-b8f4-90a283bf1b41"
      },
      "source": [
        "dataset =  dataset.replace({'Sex':{'F':0, 'M':1}, \n",
        "                     'Cholesterol':{'NORMAL':0, 'HIGH':1},\n",
        "                    'BP':{'LOW':0,'NORMAL':1, 'HIGH':2},\n",
        "                    'Drug':{'drugA':0, 'drugB':1,'drugC':2,'drugX':3, 'DrugY':4 }})\n",
        "dataset"
      ],
      "execution_count": null,
      "outputs": [
        {
          "output_type": "execute_result",
          "data": {
            "text/html": [
              "<div>\n",
              "<style scoped>\n",
              "    .dataframe tbody tr th:only-of-type {\n",
              "        vertical-align: middle;\n",
              "    }\n",
              "\n",
              "    .dataframe tbody tr th {\n",
              "        vertical-align: top;\n",
              "    }\n",
              "\n",
              "    .dataframe thead th {\n",
              "        text-align: right;\n",
              "    }\n",
              "</style>\n",
              "<table border=\"1\" class=\"dataframe\">\n",
              "  <thead>\n",
              "    <tr style=\"text-align: right;\">\n",
              "      <th></th>\n",
              "      <th>Age</th>\n",
              "      <th>Sex</th>\n",
              "      <th>BP</th>\n",
              "      <th>Cholesterol</th>\n",
              "      <th>Na_to_K</th>\n",
              "      <th>Drug</th>\n",
              "    </tr>\n",
              "  </thead>\n",
              "  <tbody>\n",
              "    <tr>\n",
              "      <th>0</th>\n",
              "      <td>23</td>\n",
              "      <td>0</td>\n",
              "      <td>2</td>\n",
              "      <td>1</td>\n",
              "      <td>25.355</td>\n",
              "      <td>4</td>\n",
              "    </tr>\n",
              "    <tr>\n",
              "      <th>1</th>\n",
              "      <td>47</td>\n",
              "      <td>1</td>\n",
              "      <td>0</td>\n",
              "      <td>1</td>\n",
              "      <td>13.093</td>\n",
              "      <td>2</td>\n",
              "    </tr>\n",
              "    <tr>\n",
              "      <th>2</th>\n",
              "      <td>47</td>\n",
              "      <td>1</td>\n",
              "      <td>0</td>\n",
              "      <td>1</td>\n",
              "      <td>10.114</td>\n",
              "      <td>2</td>\n",
              "    </tr>\n",
              "    <tr>\n",
              "      <th>3</th>\n",
              "      <td>28</td>\n",
              "      <td>0</td>\n",
              "      <td>1</td>\n",
              "      <td>1</td>\n",
              "      <td>7.798</td>\n",
              "      <td>3</td>\n",
              "    </tr>\n",
              "    <tr>\n",
              "      <th>4</th>\n",
              "      <td>61</td>\n",
              "      <td>0</td>\n",
              "      <td>0</td>\n",
              "      <td>1</td>\n",
              "      <td>18.043</td>\n",
              "      <td>4</td>\n",
              "    </tr>\n",
              "    <tr>\n",
              "      <th>...</th>\n",
              "      <td>...</td>\n",
              "      <td>...</td>\n",
              "      <td>...</td>\n",
              "      <td>...</td>\n",
              "      <td>...</td>\n",
              "      <td>...</td>\n",
              "    </tr>\n",
              "    <tr>\n",
              "      <th>195</th>\n",
              "      <td>56</td>\n",
              "      <td>0</td>\n",
              "      <td>0</td>\n",
              "      <td>1</td>\n",
              "      <td>11.567</td>\n",
              "      <td>2</td>\n",
              "    </tr>\n",
              "    <tr>\n",
              "      <th>196</th>\n",
              "      <td>16</td>\n",
              "      <td>1</td>\n",
              "      <td>0</td>\n",
              "      <td>1</td>\n",
              "      <td>12.006</td>\n",
              "      <td>2</td>\n",
              "    </tr>\n",
              "    <tr>\n",
              "      <th>197</th>\n",
              "      <td>52</td>\n",
              "      <td>1</td>\n",
              "      <td>1</td>\n",
              "      <td>1</td>\n",
              "      <td>9.894</td>\n",
              "      <td>3</td>\n",
              "    </tr>\n",
              "    <tr>\n",
              "      <th>198</th>\n",
              "      <td>23</td>\n",
              "      <td>1</td>\n",
              "      <td>1</td>\n",
              "      <td>0</td>\n",
              "      <td>14.020</td>\n",
              "      <td>3</td>\n",
              "    </tr>\n",
              "    <tr>\n",
              "      <th>199</th>\n",
              "      <td>40</td>\n",
              "      <td>0</td>\n",
              "      <td>0</td>\n",
              "      <td>0</td>\n",
              "      <td>11.349</td>\n",
              "      <td>3</td>\n",
              "    </tr>\n",
              "  </tbody>\n",
              "</table>\n",
              "<p>200 rows × 6 columns</p>\n",
              "</div>"
            ],
            "text/plain": [
              "     Age  Sex  BP  Cholesterol  Na_to_K  Drug\n",
              "0     23    0   2            1   25.355     4\n",
              "1     47    1   0            1   13.093     2\n",
              "2     47    1   0            1   10.114     2\n",
              "3     28    0   1            1    7.798     3\n",
              "4     61    0   0            1   18.043     4\n",
              "..   ...  ...  ..          ...      ...   ...\n",
              "195   56    0   0            1   11.567     2\n",
              "196   16    1   0            1   12.006     2\n",
              "197   52    1   1            1    9.894     3\n",
              "198   23    1   1            0   14.020     3\n",
              "199   40    0   0            0   11.349     3\n",
              "\n",
              "[200 rows x 6 columns]"
            ]
          },
          "metadata": {
            "tags": []
          },
          "execution_count": 5
        }
      ]
    },
    {
      "cell_type": "code",
      "metadata": {
        "id": "-y9RGg8wsvUf"
      },
      "source": [
        "X = dataset.iloc[:,1:5].values\n",
        "Y = dataset.iloc[:,-1].values\n"
      ],
      "execution_count": null,
      "outputs": []
    },
    {
      "cell_type": "code",
      "metadata": {
        "colab": {
          "base_uri": "https://localhost:8080/"
        },
        "id": "1WxFPnbyuLqQ",
        "outputId": "05dab1dd-0d9c-4fd4-b059-8a7c22944f36"
      },
      "source": [
        "print(X.shape,Y.shape)"
      ],
      "execution_count": null,
      "outputs": [
        {
          "output_type": "stream",
          "text": [
            "(200, 4) (200,)\n"
          ],
          "name": "stdout"
        }
      ]
    },
    {
      "cell_type": "markdown",
      "metadata": {
        "id": "XKxSK_ogt5iL"
      },
      "source": [
        "# ***Split Dataset***"
      ]
    },
    {
      "cell_type": "code",
      "metadata": {
        "colab": {
          "base_uri": "https://localhost:8080/"
        },
        "id": "f1T1qPN3uVKn",
        "outputId": "e74e01e5-d863-4f62-ef81-f27193db0efe"
      },
      "source": [
        "from sklearn.model_selection import train_test_split\n",
        "X_train, X_test, Y_train, Y_test = train_test_split(X, Y, test_size = 0.2)\n",
        "print(X_train.shape, X_test.shape)"
      ],
      "execution_count": null,
      "outputs": [
        {
          "output_type": "stream",
          "text": [
            "(160, 4) (40, 4)\n"
          ],
          "name": "stdout"
        }
      ]
    },
    {
      "cell_type": "markdown",
      "metadata": {
        "id": "IGA23RHvt_WK"
      },
      "source": [
        "# ***Logistic Regression***"
      ]
    },
    {
      "cell_type": "code",
      "metadata": {
        "colab": {
          "base_uri": "https://localhost:8080/"
        },
        "id": "1SwEq7w3uekH",
        "outputId": "e857dd7e-ed1b-4929-9304-870de44f3201"
      },
      "source": [
        "#Logistic Regression\n",
        "\n",
        "from sklearn.linear_model import LogisticRegression\n",
        "\n",
        "logReg = LogisticRegression(solver='lbfgs', max_iter=1000)\n",
        "logReg.fit(X_train, Y_train)\n",
        "\n",
        "Y_pred = logReg.predict(X_test)\n",
        "print(Y_test, Y_pred)"
      ],
      "execution_count": null,
      "outputs": [
        {
          "output_type": "stream",
          "text": [
            "[4 3 0 2 3 4 3 3 4 3 4 4 4 3 0 4 4 2 0 4 3 3 4 1 4 4 2 4 4 3 2 4 0 0 3 3 4\n",
            " 4 3 3] [4 4 0 2 3 4 3 3 4 3 4 4 4 3 1 4 4 2 1 4 3 3 4 0 4 4 2 4 4 3 2 4 0 0 3 3 4\n",
            " 4 3 3]\n"
          ],
          "name": "stdout"
        }
      ]
    },
    {
      "cell_type": "code",
      "metadata": {
        "id": "s7-Zep4CuiWM",
        "colab": {
          "base_uri": "https://localhost:8080/"
        },
        "outputId": "6b36c114-5dbe-44da-bc73-50d3e2f40ee9"
      },
      "source": [
        "from sklearn.metrics import  confusion_matrix, accuracy_score, precision_score, recall_score\n",
        "\n",
        "print(\"Confusion Matrix:\\n\", confusion_matrix(Y_test, Y_pred))\n",
        "print(\"Accuracy:\\n\", accuracy_score(Y_test, Y_pred)) \n",
        "print(\"Precision:\\n\", precision_score(Y_test, Y_pred, average=None))\n",
        "print(\"Recall:\\n\", recall_score(Y_test, Y_pred, average = None))"
      ],
      "execution_count": null,
      "outputs": [
        {
          "output_type": "stream",
          "text": [
            "Confusion Matrix:\n",
            " [[ 3  2  0  0  0]\n",
            " [ 1  0  0  0  0]\n",
            " [ 0  0  3  1  0]\n",
            " [ 0  0  0 11  2]\n",
            " [ 0  0  0  0 17]]\n",
            "Accuracy:\n",
            " 0.85\n",
            "Precision:\n",
            " [0.75       0.         1.         0.91666667 0.89473684]\n",
            "Recall:\n",
            " [0.6        0.         0.75       0.84615385 1.        ]\n"
          ],
          "name": "stdout"
        }
      ]
    },
    {
      "cell_type": "markdown",
      "metadata": {
        "id": "mwEFT6A9uHL5"
      },
      "source": [
        "# ***KNN Classifier***"
      ]
    },
    {
      "cell_type": "code",
      "metadata": {
        "id": "3bTz9Bf7ul1w",
        "colab": {
          "base_uri": "https://localhost:8080/"
        },
        "outputId": "b6e23cf7-286f-4e08-a885-5c5c907be101"
      },
      "source": [
        "#KNN Classifier\n",
        "\n",
        "from sklearn.neighbors import KNeighborsClassifier\n",
        "knn = KNeighborsClassifier()\n",
        "knn.fit(X_train, Y_train)\n",
        "\n",
        "Y_pred_knn = knn.predict(X_test)\n",
        "\n",
        "print(\"Confusion Matrix:\\n\", confusion_matrix(Y_test, Y_pred_knn))\n",
        "print(\"Accuracy:\\n\", accuracy_score(Y_test, Y_pred_knn)) "
      ],
      "execution_count": null,
      "outputs": [
        {
          "output_type": "stream",
          "text": [
            "Confusion Matrix:\n",
            " [[ 3  1  0  1  0]\n",
            " [ 1  0  0  0  0]\n",
            " [ 0  0  2  2  0]\n",
            " [ 0  2  1 10  0]\n",
            " [ 0  0  0  0 17]]\n",
            "Accuracy:\n",
            " 0.8\n"
          ],
          "name": "stdout"
        }
      ]
    },
    {
      "cell_type": "markdown",
      "metadata": {
        "id": "DFu4Yky8uKhG"
      },
      "source": [
        "# ***Decision Tree***"
      ]
    },
    {
      "cell_type": "code",
      "metadata": {
        "id": "pAFkWTIJuoZM",
        "colab": {
          "base_uri": "https://localhost:8080/"
        },
        "outputId": "74f4a8ac-d607-4f1b-c663-54ab1661682b"
      },
      "source": [
        "#Decision Tree\n",
        "from sklearn.tree import DecisionTreeClassifier\n",
        "\n",
        "dtc= DecisionTreeClassifier()\n",
        "dtc.fit(X_train, Y_train)\n",
        "\n",
        "Y_pred_dtc = dtc.predict(X_test)\n",
        "\n",
        "print(\"Confusion Matrix:\\n\", confusion_matrix(Y_test, Y_pred_dtc))\n",
        "print(\"Accuracy:\\n\", accuracy_score(Y_test, Y_pred_dtc)) "
      ],
      "execution_count": null,
      "outputs": [
        {
          "output_type": "stream",
          "text": [
            "Confusion Matrix:\n",
            " [[ 4  1  0  0  0]\n",
            " [ 1  0  0  0  0]\n",
            " [ 0  0  4  0  0]\n",
            " [ 0  0  0 13  0]\n",
            " [ 0  0  0  0 17]]\n",
            "Accuracy:\n",
            " 0.95\n"
          ],
          "name": "stdout"
        }
      ]
    },
    {
      "cell_type": "markdown",
      "metadata": {
        "id": "oSjtRxrquSRv"
      },
      "source": [
        "# ***Random Forest***"
      ]
    },
    {
      "cell_type": "code",
      "metadata": {
        "id": "1bQT8ZvVurWR",
        "colab": {
          "base_uri": "https://localhost:8080/"
        },
        "outputId": "7b7cac2c-82bf-4b09-ee09-5452c176a968"
      },
      "source": [
        "#Random Forest\n",
        "from sklearn.ensemble import RandomForestClassifier\n",
        "\n",
        "rfc = RandomForestClassifier()\n",
        "rfc.fit(X_train, Y_train)\n",
        "\n",
        "Y_pred_rfc = rfc.predict(X_test)\n",
        "\n",
        "print(\"Confusion Matrix:\\n\", confusion_matrix(Y_test, Y_pred_rfc))\n",
        "print(\"Accuracy:\\n\", accuracy_score(Y_test, Y_pred_rfc))"
      ],
      "execution_count": null,
      "outputs": [
        {
          "output_type": "stream",
          "text": [
            "Confusion Matrix:\n",
            " [[ 4  1  0  0  0]\n",
            " [ 1  0  0  0  0]\n",
            " [ 0  0  4  0  0]\n",
            " [ 0  0  0 13  0]\n",
            " [ 0  0  0  0 17]]\n",
            "Accuracy:\n",
            " 0.95\n"
          ],
          "name": "stdout"
        }
      ]
    }
  ]
}